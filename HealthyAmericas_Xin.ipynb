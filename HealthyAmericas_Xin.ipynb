{
 "cells": [
  {
   "cell_type": "code",
   "execution_count": 1,
   "metadata": {
    "inputHidden": false,
    "outputHidden": false
   },
   "outputs": [],
   "source": [
    "import pandas as pd\n",
    "from matplotlib import pyplot as plt\n",
    "import numpy as np"
   ]
  },
  {
   "cell_type": "code",
   "execution_count": 2,
   "metadata": {
    "inputHidden": false,
    "outputHidden": false
   },
   "outputs": [
    {
     "data": {
      "text/html": [
       "<div>\n",
       "<style>\n",
       "    .dataframe thead tr:only-child th {\n",
       "        text-align: right;\n",
       "    }\n",
       "\n",
       "    .dataframe thead th {\n",
       "        text-align: left;\n",
       "    }\n",
       "\n",
       "    .dataframe tbody tr th {\n",
       "        vertical-align: top;\n",
       "    }\n",
       "</style>\n",
       "<table border=\"1\" class=\"dataframe\">\n",
       "  <thead>\n",
       "    <tr style=\"text-align: right;\">\n",
       "      <th></th>\n",
       "      <th>case_id</th>\n",
       "      <th>state</th>\n",
       "      <th>region</th>\n",
       "      <th>emply</th>\n",
       "      <th>hhcomp</th>\n",
       "      <th>age</th>\n",
       "      <th>age2</th>\n",
       "      <th>educ</th>\n",
       "      <th>income</th>\n",
       "      <th>race</th>\n",
       "      <th>...</th>\n",
       "      <th>heal27e</th>\n",
       "      <th>heal27f</th>\n",
       "      <th>heal27g</th>\n",
       "      <th>heal28</th>\n",
       "      <th>heal29</th>\n",
       "      <th>heal30</th>\n",
       "      <th>heal31</th>\n",
       "      <th>heal33g</th>\n",
       "      <th>heal34</th>\n",
       "      <th>bmi</th>\n",
       "    </tr>\n",
       "  </thead>\n",
       "  <tbody>\n",
       "    <tr>\n",
       "      <th>0</th>\n",
       "      <td>10000021</td>\n",
       "      <td>NaN</td>\n",
       "      <td>South</td>\n",
       "      <td>Retired</td>\n",
       "      <td>Two</td>\n",
       "      <td>64</td>\n",
       "      <td>NaN</td>\n",
       "      <td>Technical school/other</td>\n",
       "      <td>$15,000 but less than $25,000</td>\n",
       "      <td>Black Non-Hispanic</td>\n",
       "      <td>...</td>\n",
       "      <td>No</td>\n",
       "      <td>No</td>\n",
       "      <td>No</td>\n",
       "      <td>Yes</td>\n",
       "      <td>Community clinic or health center</td>\n",
       "      <td>Yes</td>\n",
       "      <td>Good</td>\n",
       "      <td>No</td>\n",
       "      <td>NaN</td>\n",
       "      <td>28.1</td>\n",
       "    </tr>\n",
       "    <tr>\n",
       "      <th>1</th>\n",
       "      <td>10000031</td>\n",
       "      <td>NaN</td>\n",
       "      <td>South</td>\n",
       "      <td>Full-time</td>\n",
       "      <td>One</td>\n",
       "      <td>52</td>\n",
       "      <td>NaN</td>\n",
       "      <td>Some college</td>\n",
       "      <td>$100,000 and over (Unspecified)</td>\n",
       "      <td>White Hispanic</td>\n",
       "      <td>...</td>\n",
       "      <td>No</td>\n",
       "      <td>No</td>\n",
       "      <td>Yes</td>\n",
       "      <td>Yes</td>\n",
       "      <td>Doctor's office or HMO</td>\n",
       "      <td>No</td>\n",
       "      <td>NaN</td>\n",
       "      <td>No</td>\n",
       "      <td>NaN</td>\n",
       "      <td>48.7</td>\n",
       "    </tr>\n",
       "    <tr>\n",
       "      <th>2</th>\n",
       "      <td>10000032</td>\n",
       "      <td>NaN</td>\n",
       "      <td>West</td>\n",
       "      <td>Retired</td>\n",
       "      <td>One</td>\n",
       "      <td>66</td>\n",
       "      <td>NaN</td>\n",
       "      <td>High school graduate</td>\n",
       "      <td>Less than $15,000</td>\n",
       "      <td>White Hispanic</td>\n",
       "      <td>...</td>\n",
       "      <td>No</td>\n",
       "      <td>No</td>\n",
       "      <td>No</td>\n",
       "      <td>Yes</td>\n",
       "      <td>Doctor's office or HMO</td>\n",
       "      <td>No</td>\n",
       "      <td>NaN</td>\n",
       "      <td>No</td>\n",
       "      <td>NaN</td>\n",
       "      <td>25.5</td>\n",
       "    </tr>\n",
       "    <tr>\n",
       "      <th>3</th>\n",
       "      <td>10000034</td>\n",
       "      <td>NaN</td>\n",
       "      <td>North East</td>\n",
       "      <td>Part-time</td>\n",
       "      <td>Refused</td>\n",
       "      <td>18</td>\n",
       "      <td>NaN</td>\n",
       "      <td>Less than high school graduate</td>\n",
       "      <td>Less than $15,000</td>\n",
       "      <td>Black Non-Hispanic</td>\n",
       "      <td>...</td>\n",
       "      <td>No</td>\n",
       "      <td>No</td>\n",
       "      <td>No</td>\n",
       "      <td>Yes</td>\n",
       "      <td>Doctor's office or HMO</td>\n",
       "      <td>Yes</td>\n",
       "      <td>Excellent</td>\n",
       "      <td>Yes</td>\n",
       "      <td>NaN</td>\n",
       "      <td>20.5</td>\n",
       "    </tr>\n",
       "    <tr>\n",
       "      <th>4</th>\n",
       "      <td>10000039</td>\n",
       "      <td>NaN</td>\n",
       "      <td>South</td>\n",
       "      <td>Full-time</td>\n",
       "      <td>Three</td>\n",
       "      <td>48</td>\n",
       "      <td>NaN</td>\n",
       "      <td>Some college</td>\n",
       "      <td>$50,000 but less than $75,000</td>\n",
       "      <td>Black Hispanic</td>\n",
       "      <td>...</td>\n",
       "      <td>No</td>\n",
       "      <td>No</td>\n",
       "      <td>Yes</td>\n",
       "      <td>Yes</td>\n",
       "      <td>Doctor's office or HMO</td>\n",
       "      <td>Yes</td>\n",
       "      <td>Good</td>\n",
       "      <td>No</td>\n",
       "      <td>NaN</td>\n",
       "      <td>99.9</td>\n",
       "    </tr>\n",
       "  </tbody>\n",
       "</table>\n",
       "<p>5 rows × 62 columns</p>\n",
       "</div>"
      ],
      "text/plain": [
       "    case_id  state      region      emply   hhcomp age age2  \\\n",
       "0  10000021    NaN       South    Retired      Two  64  NaN   \n",
       "1  10000031    NaN       South  Full-time      One  52  NaN   \n",
       "2  10000032    NaN        West    Retired      One  66  NaN   \n",
       "3  10000034    NaN  North East  Part-time  Refused  18  NaN   \n",
       "4  10000039    NaN       South  Full-time    Three  48  NaN   \n",
       "\n",
       "                             educ                           income  \\\n",
       "0          Technical school/other    $15,000 but less than $25,000   \n",
       "1                    Some college  $100,000 and over (Unspecified)   \n",
       "2            High school graduate                Less than $15,000   \n",
       "3  Less than high school graduate                Less than $15,000   \n",
       "4                    Some college    $50,000 but less than $75,000   \n",
       "\n",
       "                 race  ...  heal27e heal27f heal27g heal28  \\\n",
       "0  Black Non-Hispanic  ...       No      No      No    Yes   \n",
       "1      White Hispanic  ...       No      No     Yes    Yes   \n",
       "2      White Hispanic  ...       No      No      No    Yes   \n",
       "3  Black Non-Hispanic  ...       No      No      No    Yes   \n",
       "4      Black Hispanic  ...       No      No     Yes    Yes   \n",
       "\n",
       "                              heal29 heal30     heal31 heal33g heal34   bmi  \n",
       "0  Community clinic or health center    Yes       Good      No    NaN  28.1  \n",
       "1             Doctor's office or HMO     No        NaN      No    NaN  48.7  \n",
       "2             Doctor's office or HMO     No        NaN      No    NaN  25.5  \n",
       "3             Doctor's office or HMO    Yes  Excellent     Yes    NaN  20.5  \n",
       "4             Doctor's office or HMO    Yes       Good      No    NaN  99.9  \n",
       "\n",
       "[5 rows x 62 columns]"
      ]
     },
     "execution_count": 2,
     "metadata": {},
     "output_type": "execute_result"
    }
   ],
   "source": [
    "df = pd.read_csv(\"reduced_health_Survey_GW.csv\")\n",
    "df.head()"
   ]
  },
  {
   "cell_type": "code",
   "execution_count": 3,
   "metadata": {
    "inputHidden": false,
    "outputHidden": false
   },
   "outputs": [
    {
<<<<<<< HEAD
      "cell_type": "code",
      "source": [
        "# Percent with each chronic disease\n",
        "df.rename(columns = {\n",
        "    \"heal26\": \"diabetes\",\n",
        "    \"heal27a\": \"hi_BP\",\n",
        "    \"heal27b\": \"hi_chol\",\n",
        "    \"heal27c\": \"lung_prob\",\n",
        "    \"heal27d\": \"ment_health\",\n",
        "    \"heal27e\": \"heart_disease\"\n",
        "}, inplace = True)"
      ],
      "outputs": [],
      "execution_count": null,
      "metadata": {
        "collapsed": false,
        "outputHidden": false,
        "inputHidden": false
      }
=======
     "data": {
      "image/png": "iVBORw0KGgoAAAANSUhEUgAAAYIAAAEICAYAAABS0fM3AAAABHNCSVQICAgIfAhkiAAAAAlwSFlz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\ngnMQmJkVnIPAzKzgHARmZgX3/wFV11j61KhsIwAAAABJRU5ErkJggg==\n",
      "text/plain": [
       "<matplotlib.figure.Figure at 0x9718c70>"
      ]
     },
     "metadata": {},
     "output_type": "display_data"
>>>>>>> Bechir_test
    }
   ],
   "source": [
    "# BMI by race\n",
    "bmi_race = df[\"bmi\"].groupby(df[\"healask\"]).mean().to_frame().reset_index()\n",
    "\n",
    "colors = [\"darkcyan\", \"lightslategray\", \"lightsteelblue\"]\n",
    "\n",
    "fig, ax = plt.subplots()\n",
    "plt.bar(range(3), bmi_race[\"bmi\"], width = .75,\n",
    "       edgecolor = \"black\", color = colors)\n",
    "plt.ylabel(\"BMI\")\n",
    "plt.title(\"BMI by race/ethnicity\")\n",
    "ax.plot([-.5,2.5], [25,25], \"k--\")\n",
    "ax.plot([-.5,2.5], [30,30], \"k--\")\n",
    "plt.xticks(np.arange(3), bmi_race[\"healask\"].unique())\n",
    "plt.show()"
   ]
  },
  {
   "cell_type": "code",
   "execution_count": 5,
   "metadata": {
    "inputHidden": false,
    "outputHidden": false
   },
   "outputs": [
    {
     "data": {
      "image/png": "iVBORw0KGgoAAAANSUhEUgAAAYIAAAEICAYAAABS0fM3AAAABHNCSVQICAgIfAhkiAAAAAlwSFlz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\nAElFTkSuQmCC\n",
      "text/plain": [
       "<matplotlib.figure.Figure at 0xb37ce30>"
      ]
     },
     "metadata": {},
     "output_type": "display_data"
    }
   ],
   "source": [
    "bmi_race = df[\"bmi\"].groupby(df[\"healask\"]).mean().to_frame().reset_index()\n",
    "\n",
    "colors = [\"darkcyan\", \"lightslategray\", \"lightsteelblue\"]\n",
    "\n",
    "fig, ax = plt.subplots()\n",
    "plt.bar(range(3), bmi_race[\"bmi\"], width = .75,\n",
    "       edgecolor = \"black\", color = colors)\n",
    "plt.ylabel(\"BMI\")\n",
    "plt.title(\"BMI by race/ethnicity\")\n",
    "ax.plot([-.5,2.5], [25,25] )\n",
    "ax.plot([-.5,2.5], [30,30])\n",
    "plt.show()"
   ]
  },
  {
   "cell_type": "code",
   "execution_count": null,
   "metadata": {
    "collapsed": true
   },
   "outputs": [],
   "source": []
  }
 ],
 "metadata": {
  "kernel_info": {
   "name": "python3"
  },
  "kernelspec": {
   "display_name": "Python 3",
   "language": "python",
   "name": "python3"
  },
  "language_info": {
   "codemirror_mode": {
    "name": "ipython",
    "version": 3
   },
   "file_extension": ".py",
   "mimetype": "text/x-python",
   "name": "python",
   "nbconvert_exporter": "python",
   "pygments_lexer": "ipython3",
   "version": "3.6.3"
  },
  "nteract": {
   "version": "0.4.3"
  }
 },
 "nbformat": 4,
 "nbformat_minor": 4
}
